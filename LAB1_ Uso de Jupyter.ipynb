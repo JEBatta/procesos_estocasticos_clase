{
 "cells": [
  {
   "cell_type": "markdown",
   "metadata": {},
   "source": [
    "# Uso de Jupyter\n",
    "\n",
    "Cada jueves se llevarán a cabo los laboratorios de procesos estocásticos.\n",
    "Una de las herramientas que emplearemos será Jupyter.\n",
    "\n",
    "https://jupyter.org/\n",
    "\n",
    "## jupyter ¿Qué es?\n",
    "\n",
    "Se trata de un ambiente para utilizar python en bloques, pero además escribir texto.\n",
    "\n",
    "## python\n",
    "\n",
    "Python es un lenguaje de programación. Se considera de alto nivel. \n",
    "\n",
    "Es un lenguaje muy popular en este momento: https://insights.stackoverflow.com/trends?tags=r%2Cpython%2Cjavascript%2Cjava%2Cc%2B%2B%2Cc%23\n",
    "\n",
    "Ventajas y desventajas:\n",
    "https://www.netguru.com/blog/python-pros-and-cons\n",
    "\n",
    "¿Lo será siempre? Probablemente no. ¿Será popular por mucho tiempo? Depende la comunidad. Por ejemplo, en bioestadística seguro durará mucho tiempo. \n"
   ]
  },
  {
   "cell_type": "code",
   "execution_count": null,
   "metadata": {},
   "outputs": [],
   "source": [
    "print(\"Hola Mundo!\")"
   ]
  },
  {
   "cell_type": "code",
   "execution_count": null,
   "metadata": {},
   "outputs": [],
   "source": [
    "x=1\n",
    "x\n"
   ]
  },
  {
   "cell_type": "code",
   "execution_count": null,
   "metadata": {},
   "outputs": [],
   "source": [
    "cadena1 = \"Las cadenas de texto se escriben entre comillas dobles\"\n",
    "cadena2 = 'ó entre comillas simples'\n",
    "print(cadena1)\n",
    "print(cadena2)\n",
    "\n",
    "entero1=5\n",
    "real1=5.0\n",
    "\n",
    "print(\"Numero entero:\",entero1)\n",
    "print(\"Numero real:\",real1)\n",
    "\n",
    "real2=entero1+2.5\n",
    "print(real2)\n",
    "\n"
   ]
  },
  {
   "cell_type": "code",
   "execution_count": null,
   "metadata": {},
   "outputs": [],
   "source": [
    "### Números enteros ###\n",
    "\n",
    "x = 3 \n",
    "print(x)\n",
    "x += 1 \n",
    "print(x)  \n",
    "x *= 2\n",
    "print(x)  \n",
    "\n",
    "y = x^2\n",
    "print(y)"
   ]
  },
  {
   "cell_type": "code",
   "execution_count": null,
   "metadata": {},
   "outputs": [],
   "source": [
    "## Números reales (punto flotante) ##\n",
    "\n",
    "x = 3.14159265359\n",
    "print(x)\n",
    "x += 1 \n",
    "print(x)  \n",
    "x *= 2\n",
    "print(x)  \n",
    "\n",
    "#x^2\n",
    "#pow(x,2)"
   ]
  },
  {
   "cell_type": "code",
   "execution_count": null,
   "metadata": {},
   "outputs": [],
   "source": [
    "##Booleanos##\n",
    "print(1 == 0)\n",
    "x = 39\n",
    "y = 39.0\n",
    "print(x == y)\n",
    "print(x!=y)"
   ]
  },
  {
   "cell_type": "code",
   "execution_count": null,
   "metadata": {},
   "outputs": [],
   "source": [
    "##Listas##\n",
    "lst = [1,2,3,5,7,11,13]\n",
    "print(lst)\n",
    "lst2 = [\"uno\",2,\"tres\",4]\n",
    "print(lst2)\n",
    "\n",
    "print(lst[0])\n",
    "print(lst[6])\n",
    "#print(lst[7])\n",
    "print(len(lst))\n",
    "print(lst[1:4])\n",
    "print(lst[:4])\n",
    "print(lst[4:])\n",
    "\n",
    "lista_vacia = []\n",
    "print(lista_vacia)\n",
    "lista_vacia.append(23)\n",
    "print(lista_vacia)"
   ]
  },
  {
   "cell_type": "code",
   "execution_count": null,
   "metadata": {},
   "outputs": [],
   "source": [
    "##Tuplas##\n",
    "\n",
    "tpl = (1,2,3,5,7,11,13)\n",
    "print(tpl)\n",
    "#print(tpl.append(17))"
   ]
  },
  {
   "cell_type": "markdown",
   "metadata": {},
   "source": [
    "## Estructuras de Control\n",
    "\n",
    "### if\n",
    "\n",
    "Si alguna condicion es cierta entonces se ejecuta alguna sentencia\n",
    "\n",
    "### for\n",
    "\n",
    "Para cada elemento de un conjuto se ejecuta alguna sentencia\n",
    "\n",
    "## Funciones\n",
    "\n",
    "Python permite generar funciones propias para reciclar código. Permite también la importación de funciones existentes."
   ]
  },
  {
   "cell_type": "code",
   "execution_count": null,
   "metadata": {},
   "outputs": [],
   "source": [
    "x = 10\n",
    "if x > 5:\n",
    "    print(x,\" es mayor que 5\")\n",
    "    \n",
    "nombre = \"Sammy\"\n",
    "if nombre == \"Sammy\":\n",
    "    print(\"El nombre es Sammy\")\n",
    "else:\n",
    "    print(\"El nombre es distinto a Sammy\")\n",
    "    \n"
   ]
  },
  {
   "cell_type": "code",
   "execution_count": null,
   "metadata": {},
   "outputs": [],
   "source": [
    "for i in range(4):\n",
    "    print(i)\n",
    "print(\"LISTA\")\n",
    "lst = [1,2,3,5,7,11,13]\n",
    "for a in lst:\n",
    "    print(a + 3)\n",
    "    \n",
    "print(\"TUPLA\")\n",
    "tpl = (1,2,3,5,7,11,13)\n",
    "for a in lst:\n",
    "    print(a - 3)"
   ]
  },
  {
   "cell_type": "code",
   "execution_count": null,
   "metadata": {},
   "outputs": [],
   "source": [
    "##Funciones##\n",
    "def funcion_propia_suma_cinco(numero):\n",
    "    y = numero + 5\n",
    "    return y\n",
    "\n",
    "print(funcion_propia_suma_cinco(3))\n",
    "\n",
    "x = funcion_propia_suma_cinco(6)\n",
    "print(x)"
   ]
  },
  {
   "cell_type": "code",
   "execution_count": null,
   "metadata": {},
   "outputs": [],
   "source": [
    "##Importar funciones##\n",
    "import sys\n",
    "import math\n",
    "\n",
    "cte_e = math.e\n",
    "cte_pi = math.pi\n",
    "print(\"e = \",cte_e,\", pi = \",cte_pi)\n",
    "\n"
   ]
  },
  {
   "cell_type": "code",
   "execution_count": null,
   "metadata": {},
   "outputs": [],
   "source": [
    "conda list"
   ]
  }
 ],
 "metadata": {
  "kernelspec": {
   "display_name": "Python 3",
   "language": "python",
   "name": "python3"
  },
  "language_info": {
   "codemirror_mode": {
    "name": "ipython",
    "version": 3
   },
   "file_extension": ".py",
   "mimetype": "text/x-python",
   "name": "python",
   "nbconvert_exporter": "python",
   "pygments_lexer": "ipython3",
   "version": "3.8.3"
  }
 },
 "nbformat": 4,
 "nbformat_minor": 4
}
