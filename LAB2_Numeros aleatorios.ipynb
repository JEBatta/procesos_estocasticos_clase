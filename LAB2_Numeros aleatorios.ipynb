{
 "cells": [
  {
   "cell_type": "markdown",
   "metadata": {},
   "source": [
    "# Aleatoreidad y reproducibilidad\n",
    "\n",
    "## Aleatoreidad\n",
    "\n",
    "Como recomendación personal, una forma de comenzar a explorar un concepto, nuevo o que deseé ahondar, es buscar en Wikipedia en inglés, leer y luego explorar las referencias:\n",
    "\n",
    "https://en.wikipedia.org/wiki/Randomness\n",
    "\n",
    "> \" ... the apparent lack of pattern or predictability in events.\"\n",
    "\n",
    "> \"A random process is a sequence of random variables whose outcomes do not follow a deterministic pattern, but follow an evolution described by probability distributions.\"\n",
    "\n",
    "En el caso de conceptos matemáticos, otra buena opcion es mathworld.wolfram o wolframAlpha.com :\n",
    "\n",
    "https://mathworld.wolfram.com/Stochastic.html\n",
    "\n",
    "> \"Stochastic is often used as counterpart of the word \"deterministic,\" which means that random phenomena are not involved. Therefore, stochastic models are based on random trials, while deterministic models always produce the same output for a given starting condition. \"\n",
    "\n",
    "https://www.wolframalpha.com/input/?i=deterministic\n",
    "\n",
    "> \"adjective | an inevitable consequence of antecedent sufficient causes\" "
   ]
  },
  {
   "cell_type": "code",
   "execution_count": 34,
   "metadata": {},
   "outputs": [],
   "source": [
    "import random\n"
   ]
  },
  {
   "cell_type": "markdown",
   "metadata": {},
   "source": [
    "### Principio de Incertidumbre (Física)\n",
    "\n",
    "https://en.wikipedia.org/wiki/Uncertainty_principle\n",
    "\n",
    "Implica la existencia de un límite en la precisión de las mediciones en los fenómenos físicos (naturales). Esto a dado lugar a teorías que hablan de la inexistencia de fenómenos aleatorios, que son realmente determinados por variables \"ocultas\".\n",
    "\n",
    "\n"
   ]
  },
  {
   "cell_type": "code",
   "execution_count": 25,
   "metadata": {},
   "outputs": [
    {
     "data": {
      "text/plain": [
       "[93, 57, 13, 5, 11, 85, 18, 16, 2, 37]"
      ]
     },
     "execution_count": 25,
     "metadata": {},
     "output_type": "execute_result"
    }
   ],
   "source": [
    "random.sample(range(100),10)"
   ]
  },
  {
   "cell_type": "code",
   "execution_count": 11,
   "metadata": {},
   "outputs": [
    {
     "name": "stdout",
     "output_type": "stream",
     "text": [
      "[6, 34, 11, 98, 52, 13, 4, 48, 68, 71]\n"
     ]
    }
   ],
   "source": [
    "random.seed(123)\n",
    "\n",
    "print(random.sample(range(100),10))"
   ]
  },
  {
   "cell_type": "markdown",
   "metadata": {},
   "source": [
    "### Generador de números pseudo-aleatorios\n",
    "\n",
    "Las secuencias generadas arriba son pseudo-aleatorias. Esto significa que son generadas por algoritmos deterministas pero de todas formas cumplen con las condiciones estadísticas de los números aleatorios.\n",
    "\n",
    "https://en.wikipedia.org/wiki/List_of_random_number_generators#Pseudorandom_number_generators_(PRNGs)\n",
    "\n",
    "https://www.random.org/randomness/\n",
    "\n",
    "Ejemplo de 100 numeros aleatorios enteros del 0 al 10,000 generados en la página random.org\n",
    "\n",
    "890\t617\t90\t839\t339\n",
    "68\t192\t945\t419\t273\n",
    "882\t645\t770\t600\t737\n",
    "194\t480\t96\t51\t869\n",
    "427\t73\t815\t591\t251\n",
    "729\t755\t522\t182\t527\n",
    "738\t161\t552\t459\t74\n",
    "896\t290\t696\t783\t657\n",
    "632\t784\t442\t781\t668\n",
    "150\t291\t727\t390\t14\n",
    "251\t715\t653\t927\t703\n",
    "963\t679\t231\t813\t270\n",
    "965\t750\t323\t109\t484\n",
    "363\t607\t663\t719\t119\n",
    "622\t623\t167\t760\t1\n",
    "691\t601\t643\t649\t471\n",
    "526\t709\t176\t795\t419\n",
    "808\t159\t253\t727\t799\n",
    "542\t90\t781\t290\t977\n",
    "446\t309\t353\t184\t664\n",
    "\n",
    "Ejemplo de lo mismo, pero generado con PYTHON\n",
    "\n",
    "\n"
   ]
  },
  {
   "cell_type": "code",
   "execution_count": 27,
   "metadata": {},
   "outputs": [
    {
     "name": "stdout",
     "output_type": "stream",
     "text": [
      "[271, 480, 857, 37, 787, 312, 351, 534, 820, 494, 211, 840, 623, 654, 539, 578, 828, 983, 322, 12, 407, 914, 996, 661, 525, 444, 701, 551, 653, 815, 682, 610, 911, 853, 497, 533, 684, 429, 383, 522, 32, 867, 772, 660, 185, 743, 839, 84, 935, 498, 673, 268, 174, 342, 345, 567, 400, 905, 75, 740, 467, 396, 586, 797, 344, 16, 193, 600, 90, 851, 643, 372, 13, 917, 360, 234, 415, 544, 513, 741, 843, 61, 987, 294, 506, 782, 645, 737, 238, 557, 495, 181, 157, 549, 455, 387, 769, 472, 45, 10]\n"
     ]
    }
   ],
   "source": [
    "print(random.sample(range(1001),100))"
   ]
  },
  {
   "cell_type": "markdown",
   "metadata": {},
   "source": [
    "https://engineering.mit.edu/engage/ask-an-engineer/can-a-computer-generate-a-truly-random-number/"
   ]
  },
  {
   "cell_type": "markdown",
   "metadata": {},
   "source": [
    "En PYTHON https://docs.python.org/release/2.6.8/library/random.html\n",
    "\n",
    "Algoritmo de Mersenne Twister\n",
    "\n",
    "https://en.wikipedia.org/wiki/Mersenne_Twister"
   ]
  },
  {
   "cell_type": "code",
   "execution_count": 28,
   "metadata": {},
   "outputs": [],
   "source": [
    "import numpy\n"
   ]
  },
  {
   "cell_type": "code",
   "execution_count": 33,
   "metadata": {},
   "outputs": [],
   "source": [
    "import secrets\n",
    "\n"
   ]
  }
 ],
 "metadata": {
  "kernelspec": {
   "display_name": "Python 3",
   "language": "python",
   "name": "python3"
  },
  "language_info": {
   "codemirror_mode": {
    "name": "ipython",
    "version": 3
   },
   "file_extension": ".py",
   "mimetype": "text/x-python",
   "name": "python",
   "nbconvert_exporter": "python",
   "pygments_lexer": "ipython3",
   "version": "3.8.3"
  }
 },
 "nbformat": 4,
 "nbformat_minor": 4
}
